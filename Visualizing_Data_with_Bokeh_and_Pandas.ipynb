{
 "cells": [
  {
   "cell_type": "code",
   "execution_count": 1,
   "id": "04feed6f-8f12-43f1-9fcb-a3f5a826df9e",
   "metadata": {
    "execution": {
     "iopub.execute_input": "2024-11-20T22:30:41.592855Z",
     "iopub.status.busy": "2024-11-20T22:30:41.590795Z",
     "iopub.status.idle": "2024-11-20T22:30:42.525494Z",
     "shell.execute_reply": "2024-11-20T22:30:42.523885Z",
     "shell.execute_reply.started": "2024-11-20T22:30:41.592772Z"
    }
   },
   "outputs": [],
   "source": [
    "from bokeh.plotting import figure, output_file, show"
   ]
  },
  {
   "cell_type": "code",
   "execution_count": 2,
   "id": "8dc7f573-21e4-4f84-a3f4-c916bb31ddd0",
   "metadata": {
    "execution": {
     "iopub.execute_input": "2024-11-20T22:30:51.334268Z",
     "iopub.status.busy": "2024-11-20T22:30:51.332183Z",
     "iopub.status.idle": "2024-11-20T22:30:51.347998Z",
     "shell.execute_reply": "2024-11-20T22:30:51.345774Z",
     "shell.execute_reply.started": "2024-11-20T22:30:51.334173Z"
    }
   },
   "outputs": [],
   "source": [
    "x = [1, 3, 5, 7]\n",
    "y = [2, 4, 6, 8]\n"
   ]
  },
  {
   "cell_type": "code",
   "execution_count": 7,
   "id": "1515d3bb-60e2-4c45-95a3-6e3d4c0e4aa6",
   "metadata": {
    "execution": {
     "iopub.execute_input": "2024-11-20T22:35:41.854373Z",
     "iopub.status.busy": "2024-11-20T22:35:41.852447Z",
     "iopub.status.idle": "2024-11-20T22:35:41.861677Z",
     "shell.execute_reply": "2024-11-20T22:35:41.860202Z",
     "shell.execute_reply.started": "2024-11-20T22:35:41.854289Z"
    }
   },
   "outputs": [],
   "source": [
    "output_file('output_pages/my_first_graph.html')\n"
   ]
  },
  {
   "cell_type": "code",
   "execution_count": 8,
   "id": "efb5ebb1-a041-427b-a58a-ebacb2e07244",
   "metadata": {
    "execution": {
     "iopub.execute_input": "2024-11-20T22:36:01.572056Z",
     "iopub.status.busy": "2024-11-20T22:36:01.571037Z",
     "iopub.status.idle": "2024-11-20T22:36:01.793929Z",
     "shell.execute_reply": "2024-11-20T22:36:01.790475Z",
     "shell.execute_reply.started": "2024-11-20T22:36:01.571973Z"
    }
   },
   "outputs": [
    {
     "name": "stderr",
     "output_type": "stream",
     "text": [
      "BokehDeprecationWarning: 'circle() method with size value' was deprecated in Bokeh 3.4.0 and will be removed, use 'scatter(size=...) instead' instead.\n",
      "BokehDeprecationWarning: 'triangle() method' was deprecated in Bokeh 3.4.0 and will be removed, use \"scatter(marker='triangle', ...) instead\" instead.\n"
     ]
    }
   ],
   "source": [
    "p = figure()\n",
    "\n",
    "### beware: argument 'legent' is deprecated\n",
    "# https://discourse.bokeh.org/t/bokehdeprecationwarning-legend-keyword-is-deprecated-use-explicit-legend-label-legend-field-or-legend-group-keywords-instead/8066\n",
    "p.circle(x, y, size=10, color='red', legend_label='circle')\n",
    "p.line(x, y, color='blue', legend_label='line')\n",
    "p.triangle(y, x, color='gold', size=10, legend_label='triangle')\n",
    "p.legend.click_policy='hide'\n",
    "show(p)\n"
   ]
  },
  {
   "cell_type": "code",
   "execution_count": null,
   "id": "9056df45-a94f-4a01-af03-9669689e6e66",
   "metadata": {},
   "outputs": [],
   "source": []
  }
 ],
 "metadata": {
  "kernelspec": {
   "display_name": "Python3",
   "language": "python",
   "name": "python3"
  },
  "language_info": {
   "codemirror_mode": {
    "name": "ipython",
    "version": 3
   },
   "file_extension": ".py",
   "mimetype": "text/x-python",
   "name": "python",
   "nbconvert_exporter": "python",
   "pygments_lexer": "ipython3",
   "version": "3.12.5"
  }
 },
 "nbformat": 4,
 "nbformat_minor": 5
}
